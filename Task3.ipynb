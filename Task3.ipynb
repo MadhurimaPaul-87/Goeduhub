{
  "nbformat": 4,
  "nbformat_minor": 0,
  "metadata": {
    "colab": {
      "name": "Task3.ipynb",
      "provenance": [],
      "authorship_tag": "ABX9TyOlX9koEV3oVqhazTSqiojf",
      "include_colab_link": true
    },
    "kernelspec": {
      "name": "python3",
      "display_name": "Python 3"
    },
    "language_info": {
      "name": "python"
    }
  },
  "cells": [
    {
      "cell_type": "markdown",
      "metadata": {
        "id": "view-in-github",
        "colab_type": "text"
      },
      "source": [
        "<a href=\"https://colab.research.google.com/github/MadhurimaPaul-87/Goeduhub/blob/main/Task3.ipynb\" target=\"_parent\"><img src=\"https://colab.research.google.com/assets/colab-badge.svg\" alt=\"Open In Colab\"/></a>"
      ]
    },
    {
      "cell_type": "markdown",
      "metadata": {
        "id": "PLGKUS-u6_Ur"
      },
      "source": [
        "# **Assignment/Task 3**"
      ]
    },
    {
      "cell_type": "markdown",
      "metadata": {
        "id": "Xozo5fF17HHd"
      },
      "source": [
        "## Reg No.: **GO_STP_7205**"
      ]
    },
    {
      "cell_type": "markdown",
      "metadata": {
        "id": "c3ly9_HZ7iCs"
      },
      "source": [
        "# Name:**MADHURIMA PAUL**"
      ]
    },
    {
      "cell_type": "markdown",
      "metadata": {
        "id": "AV4KzGMe7sz8"
      },
      "source": [
        "## **Date:26/05/2021**"
      ]
    },
    {
      "cell_type": "markdown",
      "metadata": {
        "id": "QnUUwgce75T7"
      },
      "source": [
        "**Q.1 Write a Python Program to sort (ascending and descending) a dictionary by value.**"
      ]
    },
    {
      "cell_type": "code",
      "metadata": {
        "colab": {
          "base_uri": "https://localhost:8080/",
          "height": 0
        },
        "id": "EMvCVIBv611b",
        "outputId": "f2d50ec5-9f47-4056-cda2-bdf7a78b89b7"
      },
      "source": [
        "import operator\n",
        "d = {1: 2, 3: 4, 4: 3, 2: 1, 0: 0}\n",
        "print('Original dictionary : ',d)\n",
        "sorted_d = dict(sorted(d.items(), key=operator.itemgetter(1)))\n",
        "print('Dictionary in ascending order by value : ',sorted_d)\n",
        "sorted_d = dict( sorted(d.items(), key=operator.itemgetter(1),reverse=True))\n",
        "print('Dictionary in descending order by value : ',sorted_d)"
      ],
      "execution_count": 2,
      "outputs": [
        {
          "output_type": "stream",
          "text": [
            "Original dictionary :  {1: 2, 3: 4, 4: 3, 2: 1, 0: 0}\n",
            "Dictionary in ascending order by value :  {0: 0, 2: 1, 1: 2, 4: 3, 3: 4}\n",
            "Dictionary in descending order by value :  {3: 4, 4: 3, 1: 2, 2: 1, 0: 0}\n"
          ],
          "name": "stdout"
        }
      ]
    },
    {
      "cell_type": "markdown",
      "metadata": {
        "id": "kOnn_hg88trU"
      },
      "source": [
        "**Q.2 Write a Python Program to add a key to a dictionary.**\n",
        "\n",
        "**Sample Dictionary : {0: 10, 1: 20}**\n"
      ]
    },
    {
      "cell_type": "markdown",
      "metadata": {
        "id": "KFZ2XxPZ9OQU"
      },
      "source": [
        "\n",
        "**Expected Result : {0: 10, 1: 20, 2: 30}**"
      ]
    },
    {
      "cell_type": "code",
      "metadata": {
        "colab": {
          "base_uri": "https://localhost:8080/",
          "height": 0
        },
        "id": "bHnZt8lm9M83",
        "outputId": "1998e8a5-569d-4dd4-8f37-1506d133ea44"
      },
      "source": [
        "d={0:10,1:20}\n",
        "d.update({2:30})\n",
        "print(d)"
      ],
      "execution_count": 4,
      "outputs": [
        {
          "output_type": "stream",
          "text": [
            "{0: 10, 1: 20, 2: 30}\n"
          ],
          "name": "stdout"
        }
      ]
    },
    {
      "cell_type": "markdown",
      "metadata": {
        "id": "l2JRGGw495hw"
      },
      "source": [
        "**Q.3 Write a  program that asks for City name and Temperature and builds a dictionary using that. Later on you can input City name and it will tell you the Temperature of that City.**"
      ]
    },
    {
      "cell_type": "code",
      "metadata": {
        "colab": {
          "base_uri": "https://localhost:8080/",
          "height": 0
        },
        "id": "hBR3UCij98Dc",
        "outputId": "7d647a57-9f3b-4db1-b502-4481a2c1dcfb"
      },
      "source": [
        "city_temp={'Houston':78.5,'Jacksonville':79.3,'Las Vegas':79.6,'Austin':79.7,'San Antonio':80.7}\n",
        "print(city_temp['Austin'])"
      ],
      "execution_count": 6,
      "outputs": [
        {
          "output_type": "stream",
          "text": [
            "79.7\n"
          ],
          "name": "stdout"
        }
      ]
    },
    {
      "cell_type": "markdown",
      "metadata": {
        "id": "-j0qjP64_KQP"
      },
      "source": [
        "**Q. 4 Write a Python program to convert list to list of dictionaries.**\n",
        "\n",
        "**Sample lists: [\"Black\", \"Red\", \"Maroon\", \"Yellow\"], [\"#000000\", \"#FF0000\", \"#800000\", \"#FFFF00\"]**\n",
        "\n",
        "**Expected Output: [{'color_name': 'Black', 'color_code': '#000000'}, {'color_name': 'Red', 'color_code': '#FF0000'}, {'color_name': 'Maroon', 'color_code': '#800000'}, {'color_name': 'Yellow', 'color_code': '#FFFF00'}]**"
      ]
    },
    {
      "cell_type": "code",
      "metadata": {
        "colab": {
          "base_uri": "https://localhost:8080/",
          "height": 0
        },
        "id": "WRBWBX7xB_-R",
        "outputId": "cdde3e99-4cb0-4d04-deec-bf9c6eaa7265"
      },
      "source": [
        "color_name = [\"Black\", \"Red\", \"Maroon\", \"Yellow\"]\n",
        "color_code = [\"#000000\", \"#FF0000\", \"#800000\", \"#FFFF00\"]\n",
        "print([{'color_name': f, 'color_code': c} for f, c in zip(color_name, color_code)])"
      ],
      "execution_count": 7,
      "outputs": [
        {
          "output_type": "stream",
          "text": [
            "[{'color_name': 'Black', 'color_code': '#000000'}, {'color_name': 'Red', 'color_code': '#FF0000'}, {'color_name': 'Maroon', 'color_code': '#800000'}, {'color_name': 'Yellow', 'color_code': '#FFFF00'}]\n"
          ],
          "name": "stdout"
        }
      ]
    },
    {
      "cell_type": "markdown",
      "metadata": {
        "id": "6EEfbTDnCWKu"
      },
      "source": [
        "**Q. 5 We have following information on Employees and their Salary (Salary is in lakhs),**"
      ]
    },
    {
      "cell_type": "markdown",
      "metadata": {
        "id": "GBNqohWkCdV3"
      },
      "source": [
        "![Screenshot 2021-05-26 194846.png](data:image/png;base64,iVBORw0KGgoAAAANSUhEUgAAAm4AAAD8CAYAAADOmShyAAAAAXNSR0IArs4c6QAAAARnQU1BAACxjwv8YQUAAAAJcEhZcwAAEnQAABJ0Ad5mH3gAACGQSURBVHhe7d1/cJXVoe7xh5vJ7gEKlEIu0+31bIJ4oNCYYZoMA6kKiOckMoZ6+CEeg9aAp0QtUMCIlXBOjR6ECgJWk04h1iYqhXJr4kUyxwCiBi6TdLiQkpJDJNmX6Z7hhoghEtqdyXDfd79rQ/hNQpAs+H5mXvZ617v23vAHa553rfWu3aO+vv60AAAA0O31OO0wZQDADRQMBhUIBMwZAFzov5lXAAAAdHMENwAAAEsQ3AAAACxBcAMAALAEwQ0AAMASBDcAAABLENwAAAAsQXADAACwBMENAADAEgQ3AAAASxDcAAAALEFwAwAAsATBDQAAwBIENwAAAEsQ3AAAACxBcAMAALDETRDcQtqxdpWemr1Iqc+WqdHUAgA6Kbhba36+VBlPZGl+SYOpBNAd9DjtMOWrVK01DyxXkTm7mIyX39a8Uebkumv39xk+U6WrJmpApB4A7BIMBhUIBMxZB7U1qWrLZhX+bpd2HG+NVPn6xinxu0n6p6lpmjyyX6TuquwtVPILZZFiypxXtTo9LlIGcOMxVQoAtmtrUPHihcrM33kmtLnCJxpUsWerar7oZWoA2O7agps7wvXh26o47/j6RtsAAM07C/XSAS+wJUx9Tts/8Pri8nXPKfvuNI1Pio1cA2C/a5sqvezUZIuqfr9BGz+tVt3RL1VzwutU+vQfock/StXYU3/UpuiQfs9+Gn/vFGXNulfxvSPN1Lx/q/Le3ab9R086729R2K102iWPTlPW42lKGBRp5rj836dxzwYtd+5Cy93P8PVSwqiJypozRcmR9zt3qQsW6aWDTtE3UQWbZyohxq137lQ/zVfKst1OKVbTluQpe6zT8Tl3tRUFBfpFqfNvOuX+WwJKfXiWsiYF1Me8LyryvWvLzvz7kkena96ciRrW1zQAgPN0dqq0Kn+2Mku8PvZKS1XO9m1RsYq/a6wyZ81Q6p1mZO5SU6WnKrViyuva5J1FeH36DGXdH5AvUtOq0KdbtWl7pSr+HGrX98cp82evKvFj5++6xa0bqiVv5WhytC8Pligja7NqnGJC5jIVTPV79QDOcR2nSk/q8K6dKj3UcOY/rqv5eLWKXlulp9oP6Z9q0o7SAmUs361mr0bh+kpt2u+8NxraXE67io83KPPHS1VwoMVUXooTHN+Yq9Sfb9WO6GeEnbo9JXrKef+mw25FnO5KNh1SeJcqDnlFV83+SlNKUsooJ7SdrFbe7Of11B+80OZqPh7UpvylmpVfffbv6H5v/iKlu9/b7t9X8XGhMp4pVNVJrwoAuso3+33LlKSN75ao5rg5uQjf3/s1zJQ9rarbv1M583K1KWiqLqWnX/Hn5SmvT1+qOe+FTM2XqvjDZhXtCZ7X9/fTQCekDbsrydTUqrJdP964b18ktLn9cloyoQ24lGsLbgcLlfrA40puf7xRbS62N1EF7jTqBy9q3pmbyUTlvuPW5Wn1OG8YP1xZpu1HI8VzuHeQkWH/vBlKcW/pwkHlLXc6pzbv+kUdKNGSLU2RYvykBd7UwTsLlDHQqXDev+IXW+V2M/Fj7zGdWIu27412PLWq+NR0OOOSlNzTCXK/y1fBUafO59wl5q2L/H2KnxwaucOs2/K6ig54zXWwRLklDU6Qi1XKk8tU7n7vr8zf+1iZlrxb67UDgC4SPyFVKaYcPrBZGY/OVuqzBSo96PWB5wikq8jtj80R6VcjF0Iq2nal/smvaevOvrfi/WXKHu5dqSr+xASv9u7Vm9Fp2w2Ller0v76kJE0zV0sroze9Ldpfab7bf4+SOvl8BnAr+HofTogJKOWe6NNJJ/U3939sTC+lTBjrVTmBqT6anS7CF0jTvIfN+4/tVHm7EbLzVX1cFglm0hjNy0z0pjL7Jypj6tBIrTssX+pOkQaSNNnc3NVUVHvbiQSrtf1EpErTxiTK11at0hKvA/TdP0WTA17Q9D80RRmRuYEWFe/xOp2qbWWqcwu+ezUr3S+f+723p2lWqvee0LbKi3RuAHANBk1U7osTNcybq3S0qvHATuUsmKsJ8zar5jIj/T6nDxxvwlfo1Nm5g6vi82vCONOnnmhtN/MQFau/M8tIfH29PlA9E5Uyzitq15+9G/BT1aowkxzD7ktSvFcEcBFd/3DC0yPMxYvr2/sij6THmP/QVyF+eKIptagudKnp0gYd/tyMmA0JKL6nV3QNuH2wKbXoWIPbxq+UVJPcDu7WZ0fbD9mPUYq7qPdYSHWmRwpvWd5uhHG5Cky91+G1+95wmTIfPDsSGV1/cvHODQCuTZ+kmSra/KoK5tyrlGhIcjQfKlFmu2UoOhFU6drlmj4l2j+Zdb6uz0OX3wuzrUU1HxUo+9HZZ/q21PzoKF29Dl9kxuRCsUr+wRhvPVx4p7bvd14P/lnF7rniNHks06TA5Xy9I243wl9b9TdTvBT/fakaHynVaseeWlWY0TPfBG+aFACsEBOnhPRMrd6wTttfTlOCGYFzl6GUH3MKp6qV98xS5ZgHrOTrpQFX3ce1qurXi5XxWnR9cqwGtAuIHeEbPVGzIg9qtWrjrn2qqtzl3dAG7lMK06TAZVkX3JqPR3fxjpV/oPcElO/M9EBUnIbcYTqUUEgh8zCBq/FIvSn10sA406Z/stLMetny369VwV631EuznMrIRw+MOzN075v03LkjjOeMNMbJf7vXLvKUqlnbce4xUwmmCQBcL31GzdBP7zcnCqrOXTty8I8qcAOcY/KiPFW8n6fSza9qiZkqPSPG6cJM8axD2m6WjGjsHG3/YJ1KnYBYOsdMlXZEzFCl/KPXf4c/Wq/cbd7syfh/HivG24DLsyK4NR8zncWJfSr4zT6v7EtS0p1uwQlLQyI10uHdKt7boHCblDBuoukAdmtNwT41u+soju9T0e/NsH4gXalnOqteGv9wmtfe+a7IGrW+9yolej1mhMZO8EJeeEu+VnwcinxHxKkG1e0PnZmGSBwdnQIoU+5ru8+GxrZWNR527nLN2jkA6DJHdmpN4W7VuQ9QRR2vVsWfTFmBC54GPXHqMgvfBn1HyaZY8eknqgq1+1yX895rXfIx7KEZ3kxH2OlzI/3iCE1I6sCvOwC3qGsLbhd7qtQ9FnTtb4YWvzbX+9wZq1QUuVt0n9icYqYx4zT8e+Y/e7hWeS/ka7v7KPzIdL00yauv27JKE9z1Zo+a9/vilJUVDXbGyHuU0W6IPmHqPRp2Zm+2WCVnmSdS1aRNK55XSnT92pRFmr50m6LjeL6xjyk/+r3b8zU5uo7kwdlKfWaVSqMNAaCLhPaUqui9fE1/4uzas+RHlyvPbO8RP2mKJrj91/DvK8PsJbnjjUWmbbs1blEDB+uuSH/ndKsHSpT52k6nT79TEyad3ect1fSBZ9e4dVD/sZpmbohdvgn3aUJ/cwLgkqwYcYu/3a8BZtze3ewx68WVWj3p7G/nDXs8V28+kqjk/k4n4Bus2yIdTi8lPL1Wpf+WpvGDenmjYO4GvKPT9eavXlXmXWc7DI9fKfeZKOcbo6xJ592e9h6heW+9evZ7DHdTyeRRTlA7c/Ma/d50pd7ZT31MrbsJ77A7R2igrrT/HAB0zDf+4T7NGzdCw6J9ncvp74bdmah52ctU9PQIr76n04/9coHmjT73oa1I/+QfoWlj/V67mKHKXHW2ne8Opw92bmAT5rxyQR/o3tjG++M0flyShnRoTbBzQ3x3dE83v+Y/bJamALisTvxywtejsST3zJ3cdf3R+lOtTqfldEIn9mnNM96IXPzUHG3M7MS6DQC4Btf0I/O2CLcqHBPrhLSQihcvjfxUly9pjkpfHHP2RhfAJd38T5VeVpNKl5qpheg07MCJynmY0AYA10NVQZa31OTB573fV/UNVfYcQhtwtW7x4NagY8eiUwvu7/Wl6c1VM5Vgfi8VANCVmnTseC8T0mI1IDBGS36x8Mwm6ACurNtOlQLAreaWmCoFcE1u8RE3AAAAexDcAAAALEFwAwAAsATBDQAAwBIENwAAAEsQ3AAAACxBcAMAALAEwQ0AAMASBDcAAABLENwAAAAsQXADAACwBMENAADAEgQ3AAAASxDcAAAALEFwAwAAsESP+vr606YMAACAbqzHaYcpAwBuoGAwqEAgYM4A4EJMlQIAAFiC4AYAAGAJghsAAIAlCG4AAACWILgBAABYguAGAABgCYIbAACAJQhuAAAAliC4AQAAWILgBgAAYAmCGwAAgCUIbgAAAJYguAEAAFiC4AYAAGAJghsAAIAlCG4AAACWuMHBrVZFs+dqwhvV5hwAAACX0iXBreqNx5X8QKGqzPnVC6sx1KRmcwYAuHahklylPJCr4qOm4lLaGlT87Gyn/35ca/aaOgDdGlOlAHCzaGtSRf5STcuvdW6Lr6RFVfm5eulAqzkHYAOCGwBYr1WNuzboqelz9VRpi1JGxpn6SwuVrNScj+K05Ml7TQ0AG1zX4Na4Z4OyH/WG4ZOnzFX2r/epsc1cbG97vqZPcadbneOHWcpcUaa6k+ZahLsWbpEyZpjPumQ7ALgVxcp3skF/HT1DBb96Vc/d3c/UX0Joq1bkBzV54UJNHhxrKgHY4LoFt5rCRUpfdkjJOStV8eHbqlg3V8n/9brSZ29Q1SnTKGrMI1pf5LRx2701R4l/KlTGv5ep0Vz21sI1qCZpjso/uFw7ALg19bn/JyrITlPCIFNxKe66tlc3qM5pP//uXqYSgC2uT3A7slXL32tQcuYcTRtu7vz6D9W0RTOUfHSrXtsS8uqievZTn56m3D9RWU+OUfjAZhUfNHVRPXvJF2PKl2sHALioxi35eunwGGX/a6J8pg6APa5LcKv7bJuqNFTjR5+3zmJQosYPl6pKK1Vnqi7Gd0dAyWpRXajF1Fzc1bYDADhOVmp9QVCpcx9RSm9TB8Aq1yW4ffVFg/PnYA25YMg+TkPucF5CTfrKq7i4mNjInWDzV1dYwHa17QAAqvndb7Wp70Rl3HuFNXAAuq3r+nACAKC7qNb2kibp2FZlPGge8nKPF8oiV4tecMpshg50e10S3P563oZB3/y2O0Var8MXbP7YpL/UOy99vZEyAMDXZYSy3jcPd7U/Xp4YuZrxslN+ekSkDKD76oLgFlL9Aedl+Hfk9yoU/4P7lKBa7djjTpm2c/z/aLvTNmHqPRpmqgAAAHB1Ohbc2kIqXrFBFSGz03Zbk2reW6/VoX7KmDlWA7xa6fY05fwooIqCfG062OTVHa/Vpv8oVPmgNP10UjTiAQAA4Gp1LLid/FJhBbVmQZa3NuLBhZr3SW/Nf+UVzRt17n5A8dNfVMnzd6oid6HXdvZaVfzDT1SyboYSolt/AAAA4Kr1OO0wZQDADRQMBhUIBMwZAFyIp0oBAAAsQXADAACwBMENAADAEgQ3AAAASxDcAAAALEFwAwAAsATBDQAAwBIENwAAAEsQ3AAAACxBcAMAALAEwQ0AAMASBDcAAABLENwAAAAsQXADAACwBMENAADAEgQ3AAAASxDcAAAALEFwAwAAsESP+vr606YMAACAbqzHaYcpAwBuoGAwqEAgYM4A4EJMlQIAAFiC4AYAAGAJghsAAIAlCG4AAACWILgBAABYguAGAABgCYIbAACAJQhuAAAAliC4AQAAWILgBgAAYAmCGwAAgCUIbgAAAJYguAEAAFiC4AYAAGAJghsAAIAlCG4AAACWsD+4Hdupl57I0vySBlMBAABwc+pccDu6T0U/X6rpUx5X8gPuMVupTyxS9hv71GiadF6DSl+YreTHClV1ylQFdypn3iIVHTDn7bW16tjRFnMCAAiV5CrlgVwVHzUVRvhoZaTvzpjh9LFu3/3DLGUs3qCK89oB6L46HtyOlmn+j1cp76sk5a57WxUfOscHeXonZ4qSR8ZpgGnWpb74vyo91KDGsDkHAFyorUkV+Us1Lb9WF+sufX2d8Oa7Rzl5eV7f/dZCTW4r01NOn77juGkEoFvrcHCr216q8nCc5j+TrmH9TWVMrAYMGaNp4/ym4lrEKfXldar47Uwl9DRVAIDLaFXjrg16avpcPVXaohTnJvqieiYp8/mJTt8d6533H6ppP5oof3ifinc1eXUAurUOB7evmr40pcur+s0iZTyRpZTIVGp0OnW5CkrKlNd+mnXK88rZWK3mNvNGR9Ub7rVCVZnzqKIXop/lHAvKzpmWrXg3V6k/NNemzFX2r/epsd1nAsDNK1a+kw366+gZKvjVq3ru7n6m/ioMHKh497WNKQ3ABh0ObsPuSpJPDVr9yxLVnDCVF+N0IjVHE7XifTOd+v6Lyhp4SHn5m1U38jGt3+jVb88eoZrfLFfOlis/XJDxsvks91g18Zxp2cR/XqhN5jPLV6UpvGWVsn5dfdHpAgC42fS5/ycqyE5TwiBTcZXCn9eqwgl+/oHfMjUAurMOBzff6CnKHhmr8IHNyngsS/PX7lTNJddG9FZfnyn6/Jr88Fin0KLbBg9Vnxivus/oVD06RCr/z0qFvKpO8f1dL/Ux3+ULpGnew3GqKylV+eXCJQDcwsKHd2pF/m59Y9RMzRprpk8BdGsdfzghJk6TX1mrojljlBDTovLSAmU8OluZK3YqdKWpydv/XinOS12o/ehanIZ813k5fKwLnkg9K/7OEc6fh5zv8s4BAJ7GktzIspKUZwpUfCpR2U/fe30eLAPQ5Toe3FwxvTQsfY4KNq5T8cszNHmQVPVxgaYtLrtyePu6xLh3jy1qjm4pAgCIGJCe4y0reedF5Y4NKXf2XK3Zy7ZKgA06F9yinHDkH5WmJeuWaUlk+nSDNu031wAA3Zqvf0CpP31O2cObVLS8RDWmHkD3dW3BLcqdPo2sX2tV3RF+wQAA7BGnIXc4LycO6SAb8QLdXtcEN0f4lHl+Myb6NEIX8n/HrI1jnyEA6FpN+ou7Ftg3WEMGejUAuq8OB7dQSb4KPqpVqN3asfCR3Vr9693SwImaNa4D+wddrUEjlBKQyrftUp3Jh82HQ2r2igCAqxA+WKnyw00KR9cih5tU895a5e6NVUpmqhLM0/4Auq8OBrdWNcf4VPe/8jU/4+xmuKmLt6r57kwV/XKmEnqbpl3Kr2m5C5QVU6KMyCa7s53zzao8Zi4DAK7omHOT/c5/5Cj1QdN/T1+s3H23KfuVlVqdfolfWwDQrfQ47TBlAMANFAwGFQgEzBkAXKjL1rgBAADg+iK4AQAAWILgBgAAYAmCGwAAgCUIbgAAAJYguAEAAFiC4AYAAGAJghsAAIAlCG4AAACWILgBAABYguAGAABgCYIbAACAJQhuAAAAliC4AQAAWILgBgAAYAmCGwAAgCUIbgAAAJYguAEAAFiiR319/WlTBgAAQDfW47TDlAEAN1AwGFQgEDBnAHAhpkoBAAAsQXADAACwBMENAADAEgQ3AAAASxDcAAAALEFwAwAAsATBDQAAwBIENwAAAEsQ3AAAACxBcAMAALAEwQ0AAMASBDcAAABLENwAAAAsQXADAACwBMENAADAEgQ3AAAAS1z34Nb40evKmJGr4qOmAgAAAJ1yzcEt9PvnlfzA45pf0mBqznPqS9WcMOWIBpW+MFvJjxWq6pSpAgB03olala5droxHnb7V6Y+TH5it6fPyVXyoxTQwToRUXrhKT53TbpWKKptMAwDd3bUFt1OVKioKRYrl725TTVukCAD4OvXtpb+d9GveK3mq+PBtVby/TPNur9ZL8xar4KBp4wj/V6lWfBSrf8pZqfIPou3qtWZpjvL2t5pWALqzawpuzZ9t06awX1mPjJHvRJmK91zNf/w4pb68ThW/namEnqYKAHAN/Jr8/Ewl3x7rnfrilDJrisarSes/rvbqHL6kTBW/9RNNHt5Pvhi3wmk3M10pTruCTw95jQB0a9cQ3EIq/Z9OhzAqVdP+ZaJm9W3Vpi271GyuXk7VG+4QfaGqzHlU454Nym43hJ/6RIHKT5qLjsY9m5WTlaUU9/oPs5S5okx17a4DAIz+cbrNeQmfPxPiBrb2BsYp3hQBdH+dD27BShUHYzVt0lj1iRmq1Kl+aW+pSo+Y6x1UU7hI6cuqFT93mTeE/0Ge3nnxQSX39q6HSnKV/vOd6vPwiyp3pwLemqPEPxVq+qIS1TFFCwDnOhLUPuclYdC3vPNLOfhnbXdertgOQLfQ6eBW859bVeO7V2mjvaF5/933KUUhFX/mrXnrkCNbtfy9BqU8vVBZo+O8IfyYWA243Sm714/v1Or8Wg18aK6yx8W5Nc7dZKKy5oyRL1iikv1eFQBACh+vVsHyzaoZlKafTnJuqi+lrUHF67cq5BujWWmXaQeg2+hccDtVqeItLfJPGqOE6LD7oGSljnICXfEnHX5Ioe6zbarSUE0Y1c/UnKt57x+1Q7FKHT3U1Hh8dwxVslpVcbATYREAbjZ7CyNLTVIeXa68w3Ga9dP0y6wlblFVfq5eOthLGUseU4qZ3QDQvXUquIX3OsEt3EuTx7YPUv2Ucl+idKJMpR0cAfvqC3crkcG6baB3fr7wV+5CtlYVLHbXvrU7nihUuXOl5osvI+0A4JY2aqb3VOnmZSp45FsqWjz3Els1tajuvZWa49yAJ0xdqKykXqYeQHfXieDWovLS3Qo7r3nPnhukJrzqrqho1cZtlc71rhbQknVOh+R2SucfT48wbQAA6ulXwswFWjMpVuX5hdpxzl6a7prhlcoorNVtkxYoP3OotyQFgBU6HtyOV2hrpZS6yOwXdN5RNLWXwp9Val8HNtf95rfddWv1+ssx7/x8A/zus1FB1XzOPkMAcHVi5b/dXbe2T/s/92pc4f2Fmp9fK42cqdVzRhDaAMt0OLg1V/5v7dBQJY28+ND6sFFj5Qvv1o7Kqw9Z8aOSFK9ale66xK8vjLxL05zepXj3vuswkgcAN6djR931v0M1+MxzByEV55Wpzpeol342Uf7ztwYB0O11MLg1aPvWasmfqLsGmarzDf+uJjsvmz6qjOzp1meg+2RoSPWfX+YnVYanK2dSP5UXvK68PQ1n9h0KH21Qozty1zNJ8/9tom77OF/Z79WqMZrewk2qqay9qr3jAOCmdbRapXtDZ/dsa2tVyOkvc/7QovhJU5QW7a8PfqKioHOD/fAMje9v6gBYpcdphylf2ZGtyvzxBjVOzVFx5rlPeJ7Voh1Ls5RdmagVGxZofO8mVRTk6xel1Uqav07Zd8dGNuDN3DJRBR/OVIJ5l/u+0MclWv32TpUfbYmMrPXp71dmzjJlDPdaNB/aqYL1m1W8v8kLaz37aZgT+la87Nw5RloAgL2CwaACgYA5u3rN+zcrd+1u7T/m3OxGbmxjFX/nCKU/NEPTx/nPToe6T52+UGZOLmLSc6wZBrq5jgU3AMB109ngBuDW0YmnSgEAAHAjENwAAAAsQXADAACwBMENAADAEgQ3AAAASxDcAAAALEFwAwAAsATBDQAAwBIENwAAAEsQ3AAAACxBcAMAALAEwQ0AAMASBDcAAABLENwAAAAsQXADAACwBMENAADAEgQ3AAAASxDcAAAALNGjvr7+tCkDAACgG+tx2mHKAIAbKBgMKhAImDMAuBBTpQAAAJYguAEAAFiC4AYAAGAJghsAAIAlCG4AAACWILgBAABYguAGAABgCYIbAACAJQhuAAAAliC4AQAAWILgBgAAYAmCGwAAgCUIbgAAAJYguAEAAFiC4AYAAGAJghsAAIAlbpng1vjR68qYkavio6YCAADAMp0IbrUqmj1XEx54XMnR44dZypi3Snkl1WpsM81uqAaVvjBbyY8VquqUqTr1pWpOmDIA3EzaGlRVUqDsJ7KUEumXZyv1ieVa81FQYdPkQi2qemOu09bpJ00NgO6vE8EtrMZQk5qHz1Tph2+rwj02r9WaeWP0jW2rlDp9qYoOtJi2AIDr7mil1hfUK35OjnZ84PTJH6zUmn8Ma+Nrucre0mAatXMyqOKXFitzS5OpAGCLrpkqjYnVgCFjlLlqrd78QYPWvLBSxSFz7YaIU+rL61Tx25lK6GmqAOBm5U/T6s0vKmu0X74Y5zymn4ZNn6LpvlaVb9unRq+Vo0U1f3hdGY8u1Ut7b9P44aYagDW6do1bTC8l/2iGxodrteLdyrND9Ac2Ox3F7DNTqykznteKknOH8Kt+s0gZZ4b5zVB/Vr6KD11k9O5EUKVrl2v6FK/thEeXq6Dy3DvHqjfca0wBALhFuIGtvZg4Df4fpnxGL+l4SAMnzdHGt57TzDtMNQBrdP3DCf2TlZYkhbdXqiK6vmzwPVqxKs+bVnWOkn8NqDw/V7nb24Wtkw2qOZqoFe+b6dcPVir3e9V66dmVKm3/QMHJaq15Zqlyj3xXuW+57dZp/dSw1i9dqBWfMkULABHHq1V+WPL5v6U+pso1LHOZVj85RvF9TQUAq3R9cHPu6Ab6Y53XWoX+n1ej3nHyD3LrPAMmTFHmkFaVbq1oN4Tv6q2+PlOM6afkzMc0LVyrvC21plKqefd1FR0boZyfpWuY2/HExCr+oVmaH2jVpj/sOu/zAOBW1KKK32zQDvk1f1qSot0qAPtdh+Am+f0B588Ghb7wzi/kBDl3iP5KT6D2DGjYEClU36DmSEWtyre1SCO/r+T+kQrDr+Hfc14O1upgdJQPAG5RoZKVmv9Ri1KeXKBpbncM4KZxXYJbKBR0/nTC2be98/PXpLnbh+R8Zq5diXur+NVJsx4urGZ3S48DhUo9sxbOOzK3uNcbdIwtPwDcwho/zdf8/FrdNnaOstPjTC2Am8V1CG4tOhZqdV6Hyv/fnZdT1cp7ZqlyKv16dt26M9uH5IyJNO6c+xecWS937pGjyYNMGwC4xYT3Fipr2W79ZeRMrX5+jPznP7AAwHpdH9yOV2hrpeSbkKRkdyuOQ39U0TEpY+5MJfc369xiYtW3U9t0xGnwEOflQFB1XgUAwHW0TNk/L1PdwInK//eJhDbgJtW1wa3NLIj1DVX2v5gFsW3uBGdXiVPyOL8U2q1KdzYWAOBoVUXhBpWH+ynrZzOV0NtUA7jpdE1wa2tV4+HdKlgwV099Fqd5Ly/UZCdfRQz/vjL6Sht/V6Ka46bO8ddOPkTgf2iBloxs0IqcfJUfcadkPeEj+1R1mTDXZ2CcEyRDqv+cncIB3GROVKpku9MfjntMGWyqC9zUOhHcfBowqJd8B9s9IDBlruat2a2/3bdApRtfVMbIXqato+cI59oCzYr5RPOeOPswwXN74zQs7uwWIVctJk6TX1mmN+9v0fpns8znzVb60kJ91nA2yJ3PN/oRrX5osMpXztWKTy/dDgCsc+qk9+T9x6+328S83bGgjK2SgJtEj9MOUwYA3EDBYFCBAPt3ALi06/BUKQAAAK4HghsAAIAlCG4AAACWILgBAABYguAGAABgCYIbAACAJQhuAAAAliC4AQAAWILgBgAAYAmCGwAAgCUIbgAAAJYguAEAAFiC4AYAAGAJghsAAIAlCG4AAABWkP4/QLCUfJJ3btoAAAAASUVORK5CYII=)"
      ]
    },
    {
      "cell_type": "markdown",
      "metadata": {
        "id": "w1Unsoh0C_IO"
      },
      "source": [
        "**1.Using above create a dictionary of Employees and their Salary**\n"
      ]
    },
    {
      "cell_type": "code",
      "metadata": {
        "id": "9pQm1iKfCFrx"
      },
      "source": [
        "emp_sal={'John':14,'Smith':13,'Alice':32,'Daneil':21}"
      ],
      "execution_count": 8,
      "outputs": []
    },
    {
      "cell_type": "markdown",
      "metadata": {
        "id": "pMlJjuVcD6pn"
      },
      "source": [
        "**2.Write a program that asks user for three type of inputs,**"
      ]
    },
    {
      "cell_type": "markdown",
      "metadata": {
        "id": "UIqyUXd2D_EP"
      },
      "source": [
        "**a.print: if user enter print then it should print all Employees with their Salary in this format,**\n",
        "\n",
        "1.   John ==>14\n",
        "2.   Smith ==>13\n",
        "3.   Alice ==>32\n",
        "4.   Daneil ==>21\n",
        "\n",
        "\n",
        "\n"
      ]
    },
    {
      "cell_type": "markdown",
      "metadata": {
        "id": "lauJ6_6-FTvT"
      },
      "source": [
        "**b.add: if user input adds then it should further ask for an Employee name to add. If Employee already exists in our dataset then it should print that it exists and do nothing. If it doesn't then it asks for Salary and add that new Employee/Salary in our dictionary and print it**"
      ]
    },
    {
      "cell_type": "markdown",
      "metadata": {
        "id": "XE521U-XFbC_"
      },
      "source": [
        "**c.remove: when user inputs remove it should ask for an Employee to remove. If an Employee exists in our dictionary then remove it and print a new dictionary using format shown above in (a). Else print that Employee doesn't exist!**"
      ]
    },
    {
      "cell_type": "markdown",
      "metadata": {
        "id": "tGVWtse_Fe4Q"
      },
      "source": [
        "**d.query: on this again ask the user for which Employee he or she wants to query. When a user inputs that Employee it will print the Salary of that Employee.**"
      ]
    },
    {
      "cell_type": "code",
      "metadata": {
        "colab": {
          "base_uri": "https://localhost:8080/",
          "height": 0
        },
        "id": "lmRkfIyIDp0A",
        "outputId": "4cdb6d37-ff04-4590-93ae-f9228741519d"
      },
      "source": [
        "user_input= input(\"Enter your choice :print/add/remove/query:\")\n",
        "if user_input=='print':\n",
        "  print('John==>14')\n",
        "  print('Smith==>13')\n",
        "  print('Alice==>32')\n",
        "  print('Daneil==>21')\n",
        "elif user_input=='add':\n",
        "  emp= input(\"Enter the name of the Employee to be added :\")\n",
        "  if emp in emp_sal.keys():\n",
        "    print(\"Employee name already exists\")\n",
        "  else:\n",
        "    sal=input(f\"Enter the salary of {emp}\")\n",
        "    emp_sal.update({emp:sal})\n",
        "    print(emp_sal)\n",
        "elif user_input=='remove':\n",
        "  name= input(\"Enter the name to be removed: \")\n",
        "  if name in emp_sal:\n",
        "    emp_sal.pop(name)\n",
        "    print(emp_sal)\n",
        "  else:\n",
        "    print(\"Employee doesn't exist\")\n",
        "elif user_input=='query':\n",
        "  employee= input(\"Enter the name of the employee you want to query\")\n",
        "  if employee in emp_sal.keys():\n",
        "    print(f\"The salary is ->{emp_sal[employee]}\")\n",
        "  else:\n",
        "    print(\"The employee does not exist\")\n",
        "  "
      ],
      "execution_count": 15,
      "outputs": [
        {
          "output_type": "stream",
          "text": [
            "Enter your choice :print/add/remove/query:add\n",
            "Enter the name of the Employee to be added :Sam\n",
            "Enter the salary of Sam20\n",
            "{'John': 14, 'Smith': 13, 'Alice': 32, 'Daneil': 21, 'Sam': '20'}\n"
          ],
          "name": "stdout"
        }
      ]
    },
    {
      "cell_type": "markdown",
      "metadata": {
        "id": "9REdhqnERNt1"
      },
      "source": [
        "# **Questions on Sets-**"
      ]
    },
    {
      "cell_type": "markdown",
      "metadata": {
        "id": "Shwf7NOvRhLZ"
      },
      "source": [
        "**Q.1 What is the difference between a set and a frozenset? Create any set and try to use frozenset(setname).**"
      ]
    },
    {
      "cell_type": "markdown",
      "metadata": {
        "id": "gNod0YFGRkkB"
      },
      "source": [
        "**Ans**.Frozen set is just an immutable version of a Python set object. While elements of a set can be modified at any time, elements of the frozen set remain the same after creation. Due to this, frozen sets can be used as keys in Dictionary or as elements of another set."
      ]
    },
    {
      "cell_type": "code",
      "metadata": {
        "colab": {
          "base_uri": "https://localhost:8080/",
          "height": 0
        },
        "id": "oq46PJheRP9l",
        "outputId": "56f847f1-7546-4a9a-d8bf-7d9a321fd6d3"
      },
      "source": [
        "x = set(\"A Python Tutorial\")\n",
        "print(x)\n",
        "print(type(x))"
      ],
      "execution_count": 16,
      "outputs": [
        {
          "output_type": "stream",
          "text": [
            "{'A', 'y', 'h', 'n', 'T', 'a', 'l', 'P', 'u', 'o', ' ', 't', 'r', 'i'}\n",
            "<class 'set'>\n"
          ],
          "name": "stdout"
        }
      ]
    },
    {
      "cell_type": "code",
      "metadata": {
        "colab": {
          "base_uri": "https://localhost:8080/",
          "height": 0
        },
        "id": "zgL87rtuS5Hc",
        "outputId": "9a5d14b5-fa92-428d-e0e7-152a5e8dae22"
      },
      "source": [
        "fSet = frozenset(x)\n",
        "print('The frozen set is:', fSet)"
      ],
      "execution_count": 17,
      "outputs": [
        {
          "output_type": "stream",
          "text": [
            "The frozen set is: frozenset({'A', 'y', 'h', 'n', 'T', 'a', 'l', 'P', 'u', 'o', ' ', 't', 'r', 'i'})\n"
          ],
          "name": "stdout"
        }
      ]
    },
    {
      "cell_type": "markdown",
      "metadata": {
        "id": "cyhbYQuPTS_H"
      },
      "source": [
        "**Q.2 Find the elements in a given set that are not in another set**"
      ]
    },
    {
      "cell_type": "markdown",
      "metadata": {
        "id": "azWhWgoNTq1l"
      },
      "source": [
        "**set1 = {10,20,30,40,50}**"
      ]
    },
    {
      "cell_type": "markdown",
      "metadata": {
        "id": "MgscpDT-TxIV"
      },
      "source": [
        "**set2 = {40,50,60,70,80}**"
      ]
    },
    {
      "cell_type": "markdown",
      "metadata": {
        "id": "VyHzlQSBT36F"
      },
      "source": [
        "**Difference between set1 and set2 is {10,20,30}**"
      ]
    },
    {
      "cell_type": "code",
      "metadata": {
        "colab": {
          "base_uri": "https://localhost:8080/",
          "height": 0
        },
        "id": "UuE17so-Tlz4",
        "outputId": "c55e0173-5946-4017-ce55-911b4074258a"
      },
      "source": [
        "set1 = {10,20,30,40,50}\n",
        "set2 = {40,50,60,70,80}\n",
        "print(\"Original sets:\")\n",
        "print(set1)\n",
        "print(set2)\n",
        "print(\"Difference of set1 and set2 using difference():\")\n",
        "print(set1.difference(set2))\n",
        "print(\"Difference of set2 and set1 using difference():\")\n",
        "print(set2.difference(set1))"
      ],
      "execution_count": 19,
      "outputs": [
        {
          "output_type": "stream",
          "text": [
            "Original sets:\n",
            "{40, 10, 50, 20, 30}\n",
            "{70, 40, 80, 50, 60}\n",
            "Difference of set1 and set2 using difference():\n",
            "{10, 20, 30}\n",
            "Difference of set2 and set1 using difference():\n",
            "{80, 60, 70}\n"
          ],
          "name": "stdout"
        }
      ]
    }
  ]
}