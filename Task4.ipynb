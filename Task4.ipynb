{
  "nbformat": 4,
  "nbformat_minor": 0,
  "metadata": {
    "colab": {
      "name": "Task4.ipynb",
      "provenance": [],
      "authorship_tag": "ABX9TyOc0sNBOwi/IBR0pgeou/8H",
      "include_colab_link": true
    },
    "kernelspec": {
      "name": "python3",
      "display_name": "Python 3"
    },
    "language_info": {
      "name": "python"
    }
  },
  "cells": [
    {
      "cell_type": "markdown",
      "metadata": {
        "id": "view-in-github",
        "colab_type": "text"
      },
      "source": [
        "<a href=\"https://colab.research.google.com/github/MadhurimaPaul-87/Goeduhub/blob/main/Task4.ipynb\" target=\"_parent\"><img src=\"https://colab.research.google.com/assets/colab-badge.svg\" alt=\"Open In Colab\"/></a>"
      ]
    },
    {
      "cell_type": "markdown",
      "metadata": {
        "id": "ySK3dGw-221t"
      },
      "source": [
        "# **Assignment/Task 3**"
      ]
    },
    {
      "cell_type": "markdown",
      "metadata": {
        "id": "3UFRkYcU3XRL"
      },
      "source": [
        "# Reg No.:-**GO_STP_7205**"
      ]
    },
    {
      "cell_type": "markdown",
      "metadata": {
        "id": "9AhK39Up3216"
      },
      "source": [
        "## Name: **MADHURIMA PAUL**"
      ]
    },
    {
      "cell_type": "markdown",
      "metadata": {
        "id": "tmNbquVy4Akh"
      },
      "source": [
        "# Date:- **27/05/2021**"
      ]
    },
    {
      "cell_type": "markdown",
      "metadata": {
        "id": "2YqJcHrB4LQC"
      },
      "source": [
        "**1.Import the numpy package under the name np and Print the numpy version and the configuration**"
      ]
    },
    {
      "cell_type": "code",
      "metadata": {
        "colab": {
          "base_uri": "https://localhost:8080/"
        },
        "id": "sLQD76I_22Dl",
        "outputId": "3a94ac35-2a8e-4848-f0ba-d8b7fa9e39ed"
      },
      "source": [
        "import numpy as np\n",
        "print(np.__version__)\n",
        "print(np.show_config())"
      ],
      "execution_count": 2,
      "outputs": [
        {
          "output_type": "stream",
          "text": [
            "1.19.5\n",
            "blas_mkl_info:\n",
            "  NOT AVAILABLE\n",
            "blis_info:\n",
            "  NOT AVAILABLE\n",
            "openblas_info:\n",
            "    libraries = ['openblas', 'openblas']\n",
            "    library_dirs = ['/usr/local/lib']\n",
            "    language = c\n",
            "    define_macros = [('HAVE_CBLAS', None)]\n",
            "blas_opt_info:\n",
            "    libraries = ['openblas', 'openblas']\n",
            "    library_dirs = ['/usr/local/lib']\n",
            "    language = c\n",
            "    define_macros = [('HAVE_CBLAS', None)]\n",
            "lapack_mkl_info:\n",
            "  NOT AVAILABLE\n",
            "openblas_lapack_info:\n",
            "    libraries = ['openblas', 'openblas']\n",
            "    library_dirs = ['/usr/local/lib']\n",
            "    language = c\n",
            "    define_macros = [('HAVE_CBLAS', None)]\n",
            "lapack_opt_info:\n",
            "    libraries = ['openblas', 'openblas']\n",
            "    library_dirs = ['/usr/local/lib']\n",
            "    language = c\n",
            "    define_macros = [('HAVE_CBLAS', None)]\n",
            "None\n"
          ],
          "name": "stdout"
        }
      ]
    },
    {
      "cell_type": "markdown",
      "metadata": {
        "id": "wmnp6BqC6INc"
      },
      "source": [
        "**2.Create a null vector of size 10**"
      ]
    },
    {
      "cell_type": "code",
      "metadata": {
        "colab": {
          "base_uri": "https://localhost:8080/"
        },
        "id": "kTwR4-_K6K2B",
        "outputId": "2862d56c-8543-4929-bbe5-ac1570e6d55e"
      },
      "source": [
        "import numpy as np\n",
        "x = np.zeros(10)\n",
        "print(x)"
      ],
      "execution_count": 5,
      "outputs": [
        {
          "output_type": "stream",
          "text": [
            "[0. 0. 0. 0. 0. 0. 0. 0. 0. 0.]\n"
          ],
          "name": "stdout"
        }
      ]
    },
    {
      "cell_type": "markdown",
      "metadata": {
        "id": "TdxKl1ln7dQl"
      },
      "source": [
        "**3.Create Simple 1-D array and check type and check data types in array**"
      ]
    },
    {
      "cell_type": "code",
      "metadata": {
        "colab": {
          "base_uri": "https://localhost:8080/"
        },
        "id": "-x873eO06YC1",
        "outputId": "d5ca455e-82fb-4124-8722-0ba7daf34f20"
      },
      "source": [
        "import numpy as np\n",
        "a = np.array([1, 2, 3])   \n",
        "print(type(a))\n",
        "print(a.dtype)"
      ],
      "execution_count": 8,
      "outputs": [
        {
          "output_type": "stream",
          "text": [
            "<class 'numpy.ndarray'>\n",
            "int64\n"
          ],
          "name": "stdout"
        }
      ]
    },
    {
      "cell_type": "markdown",
      "metadata": {
        "id": "cg8yiVrD8GR9"
      },
      "source": [
        "**4.How to find number of dimensions, bytes per element and bytes of memory used?**"
      ]
    },
    {
      "cell_type": "code",
      "metadata": {
        "colab": {
          "base_uri": "https://localhost:8080/"
        },
        "id": "uTBB6t9J8KCs",
        "outputId": "d8fc2682-8ada-4ca7-d051-03d8bc5c2323"
      },
      "source": [
        "import numpy as np\n",
        "  \n",
        "# create a numpy 1d-array\n",
        "x = np.array([100,20,34])\n",
        "  \n",
        "print(\"Size of the array: \",x.size)\n",
        "  \n",
        "print(\"Memory size of one array element in bytes: \",x.itemsize)\n",
        "  \n",
        "# memory size of numpy array in bytes\n",
        "print(\"Memory size of numpy array in bytes:\",x.size * x.itemsize)"
      ],
      "execution_count": 9,
      "outputs": [
        {
          "output_type": "stream",
          "text": [
            "Size of the array:  3\n",
            "Memory size of one array element in bytes:  8\n",
            "Memory size of numpy array in bytes: 24\n"
          ],
          "name": "stdout"
        }
      ]
    },
    {
      "cell_type": "markdown",
      "metadata": {
        "id": "yUFbCGcB9bGu"
      },
      "source": [
        "**5.Create a null vector of size 10 but the fifth value which is 1**"
      ]
    },
    {
      "cell_type": "code",
      "metadata": {
        "colab": {
          "base_uri": "https://localhost:8080/"
        },
        "id": "_Ji49LLu9ebz",
        "outputId": "ef508550-d27f-493f-d6f3-80416e63eb75"
      },
      "source": [
        "import numpy as np\n",
        "x = np.zeros(10)\n",
        "print(x)\n",
        "print(\"Update fifth value to 1\")\n",
        "x[4] = 1\n",
        "print(x)"
      ],
      "execution_count": 10,
      "outputs": [
        {
          "output_type": "stream",
          "text": [
            "[0. 0. 0. 0. 0. 0. 0. 0. 0. 0.]\n",
            "Update fifth value to 1\n",
            "[0. 0. 0. 0. 1. 0. 0. 0. 0. 0.]\n"
          ],
          "name": "stdout"
        }
      ]
    },
    {
      "cell_type": "markdown",
      "metadata": {
        "id": "FVy5A1tR-XXg"
      },
      "source": [
        "**6.Create a vector with values ranging from 10 to 49**"
      ]
    },
    {
      "cell_type": "code",
      "metadata": {
        "colab": {
          "base_uri": "https://localhost:8080/"
        },
        "id": "oSTbUiOu-aj_",
        "outputId": "0a279f65-b3f2-4701-ec0b-a713c5ead354"
      },
      "source": [
        "import numpy as np\n",
        "v = np.arange(10,49)\n",
        "print(v)"
      ],
      "execution_count": 11,
      "outputs": [
        {
          "output_type": "stream",
          "text": [
            "[10 11 12 13 14 15 16 17 18 19 20 21 22 23 24 25 26 27 28 29 30 31 32 33\n",
            " 34 35 36 37 38 39 40 41 42 43 44 45 46 47 48]\n"
          ],
          "name": "stdout"
        }
      ]
    },
    {
      "cell_type": "markdown",
      "metadata": {
        "id": "6fsEfmZX-xj_"
      },
      "source": [
        "**7.Reverse a vector (first element becomes last)**"
      ]
    },
    {
      "cell_type": "code",
      "metadata": {
        "colab": {
          "base_uri": "https://localhost:8080/"
        },
        "id": "zBjV2WGv-0Sk",
        "outputId": "f18b49ea-57a8-40a2-cc00-aa66f583eb14"
      },
      "source": [
        "import numpy as np\n",
        "x = np.arange(12, 38)\n",
        "print(\"Original array:\")\n",
        "print(x)\n",
        "print(\"Reverse array:\")\n",
        "x = x[::-1]\n",
        "print(x)"
      ],
      "execution_count": 12,
      "outputs": [
        {
          "output_type": "stream",
          "text": [
            "Original array:\n",
            "[12 13 14 15 16 17 18 19 20 21 22 23 24 25 26 27 28 29 30 31 32 33 34 35\n",
            " 36 37]\n",
            "Reverse array:\n",
            "[37 36 35 34 33 32 31 30 29 28 27 26 25 24 23 22 21 20 19 18 17 16 15 14\n",
            " 13 12]\n"
          ],
          "name": "stdout"
        }
      ]
    },
    {
      "cell_type": "markdown",
      "metadata": {
        "id": "kZykiqH9_LFo"
      },
      "source": [
        "**8.Create a 3x3 matrix with values ranging from 0 to 8**"
      ]
    },
    {
      "cell_type": "code",
      "metadata": {
        "colab": {
          "base_uri": "https://localhost:8080/"
        },
        "id": "qX7ng7zk_OUN",
        "outputId": "a7a14673-de07-4fce-8b77-dd4a565f50aa"
      },
      "source": [
        "import numpy as np\n",
        "x =  np.arange(0, 9).reshape(3,3)\n",
        "print(x)"
      ],
      "execution_count": 13,
      "outputs": [
        {
          "output_type": "stream",
          "text": [
            "[[0 1 2]\n",
            " [3 4 5]\n",
            " [6 7 8]]\n"
          ],
          "name": "stdout"
        }
      ]
    },
    {
      "cell_type": "markdown",
      "metadata": {
        "id": "a_ss4VP0_iDb"
      },
      "source": [
        "**9.Find indices of non-zero elements from [1,2,0,0,4,0]**"
      ]
    },
    {
      "cell_type": "code",
      "metadata": {
        "colab": {
          "base_uri": "https://localhost:8080/"
        },
        "id": "By0KWxU6_pgy",
        "outputId": "61030c36-cb77-4130-90d4-490609ecdeb5"
      },
      "source": [
        "import numpy as np\n",
        "nums = np.array([1,2,0,0,4,0])\n",
        "print(\"Original array:\")\n",
        "print(nums)\n",
        "print(\"Indices of elements equal to zero of the said array:\")\n",
        "result = np.where(nums == 0)[0]\n",
        "print(result)"
      ],
      "execution_count": 14,
      "outputs": [
        {
          "output_type": "stream",
          "text": [
            "Original array:\n",
            "[1 2 0 0 4 0]\n",
            "Indices of elements equal to zero of the said array:\n",
            "[2 3 5]\n"
          ],
          "name": "stdout"
        }
      ]
    },
    {
      "cell_type": "markdown",
      "metadata": {
        "id": "D1YhqTCJASIo"
      },
      "source": [
        "**10.Create a 3x3 identity matrix**"
      ]
    },
    {
      "cell_type": "code",
      "metadata": {
        "colab": {
          "base_uri": "https://localhost:8080/"
        },
        "id": "QLB7YSQGAUuW",
        "outputId": "ecd011fd-e149-4468-dc3d-032d20d0ee3d"
      },
      "source": [
        "import numpy as np\n",
        "array_2D=np.eye(3)\n",
        "print('3x3 matrix:')\n",
        "print(array_2D)"
      ],
      "execution_count": 15,
      "outputs": [
        {
          "output_type": "stream",
          "text": [
            "3x3 matrix:\n",
            "[[1. 0. 0.]\n",
            " [0. 1. 0.]\n",
            " [0. 0. 1.]]\n"
          ],
          "name": "stdout"
        }
      ]
    },
    {
      "cell_type": "markdown",
      "metadata": {
        "id": "WVd5UsaXAomP"
      },
      "source": [
        "**11.Create a 3x3x3 array with random values**"
      ]
    },
    {
      "cell_type": "code",
      "metadata": {
        "colab": {
          "base_uri": "https://localhost:8080/"
        },
        "id": "3BNs_1fcAwUy",
        "outputId": "f812c6ac-316c-4211-b912-cbdadc32eab4"
      },
      "source": [
        "import numpy as np\n",
        "x = np.random.random((3,3,3))\n",
        "print(x)"
      ],
      "execution_count": 17,
      "outputs": [
        {
          "output_type": "stream",
          "text": [
            "[[[0.45776165 0.53799649 0.91835319]\n",
            "  [0.94865951 0.14804791 0.53482359]\n",
            "  [0.77895079 0.34128469 0.9241496 ]]\n",
            "\n",
            " [[0.39589138 0.3287014  0.11073461]\n",
            "  [0.890634   0.03260323 0.288631  ]\n",
            "  [0.28010134 0.57465188 0.80220659]]\n",
            "\n",
            " [[0.3752881  0.91091926 0.15647011]\n",
            "  [0.52309666 0.11335948 0.46824774]\n",
            "  [0.92280365 0.03055672 0.1253142 ]]]\n"
          ],
          "name": "stdout"
        }
      ]
    },
    {
      "cell_type": "markdown",
      "metadata": {
        "id": "RQSib52pBJjN"
      },
      "source": [
        "**12.Create a 10x10 array with random values and find the minimum and maximum values**"
      ]
    },
    {
      "cell_type": "code",
      "metadata": {
        "colab": {
          "base_uri": "https://localhost:8080/"
        },
        "id": "2b4hW6XfBPgO",
        "outputId": "0ce01aee-70a3-4958-ff86-505cfcecfedd"
      },
      "source": [
        "import numpy as np\n",
        "x = np.random.random((10,10))\n",
        "print(\"Original Array:\")\n",
        "print(x) \n",
        "xmin, xmax = x.min(), x.max()\n",
        "print(\"Minimum and Maximum Values:\")\n",
        "print(xmin, xmax)"
      ],
      "execution_count": 18,
      "outputs": [
        {
          "output_type": "stream",
          "text": [
            "Original Array:\n",
            "[[0.34794213 0.92569316 0.31355951 0.83769566 0.43097921 0.88398369\n",
            "  0.91731741 0.00308535 0.1066398  0.12317291]\n",
            " [0.98311735 0.79496856 0.40705488 0.85804576 0.68063882 0.91706294\n",
            "  0.75226002 0.00989712 0.98953891 0.08945412]\n",
            " [0.60504035 0.85899907 0.63796156 0.3210729  0.54162525 0.8816938\n",
            "  0.47728458 0.67972172 0.49196709 0.70757657]\n",
            " [0.14856811 0.40329163 0.59161451 0.0359816  0.67309251 0.5178118\n",
            "  0.12107147 0.74124677 0.27433548 0.83694789]\n",
            " [0.32962193 0.57332352 0.4037635  0.0689339  0.9142608  0.94910668\n",
            "  0.19583882 0.4979275  0.93933187 0.53266309]\n",
            " [0.84776692 0.01065652 0.69360831 0.31930914 0.7646452  0.34608874\n",
            "  0.50319065 0.15383097 0.91624112 0.49600102]\n",
            " [0.88953011 0.73950334 0.92892502 0.07065077 0.59230586 0.74612826\n",
            "  0.70408748 0.18378602 0.39854033 0.03479776]\n",
            " [0.62657012 0.7356536  0.99062706 0.82702705 0.41212515 0.55546047\n",
            "  0.61902053 0.04930284 0.33532432 0.70895468]\n",
            " [0.47199474 0.30948025 0.05288047 0.10391617 0.55788672 0.76612195\n",
            "  0.89850617 0.99847231 0.92172854 0.25410789]\n",
            " [0.45132486 0.77397521 0.11841313 0.6026487  0.90992534 0.87655281\n",
            "  0.4946794  0.50781782 0.11699019 0.14869771]]\n",
            "Minimum and Maximum Values:\n",
            "0.0030853470655409776 0.9984723106019006\n"
          ],
          "name": "stdout"
        }
      ]
    },
    {
      "cell_type": "markdown",
      "metadata": {
        "id": "FvdPiH8wBkm4"
      },
      "source": [
        "**13.Create a random vector of size 30 and find the mean value**"
      ]
    },
    {
      "cell_type": "code",
      "metadata": {
        "colab": {
          "base_uri": "https://localhost:8080/"
        },
        "id": "5suQZQosBnh7",
        "outputId": "5daf063a-dc1d-48cb-bf86-c0d21b90fc21"
      },
      "source": [
        "import numpy as np\n",
        "x = np.random.random(30)\n",
        "print(x)\n",
        "print(np.mean(x))"
      ],
      "execution_count": 19,
      "outputs": [
        {
          "output_type": "stream",
          "text": [
            "[0.2483545  0.00634425 0.10599477 0.94035593 0.79205184 0.67759225\n",
            " 0.05996812 0.30320268 0.60428567 0.30533802 0.09759569 0.44690617\n",
            " 0.7536442  0.89108089 0.58076039 0.59199679 0.30080231 0.27030726\n",
            " 0.78365369 0.86952968 0.35355998 0.04840383 0.23515973 0.2292175\n",
            " 0.40656432 0.92161759 0.70495139 0.98779901 0.49254406 0.86290798]\n",
            "0.4957496830676108\n"
          ],
          "name": "stdout"
        }
      ]
    },
    {
      "cell_type": "markdown",
      "metadata": {
        "id": "M_fsKAy2Cs8s"
      },
      "source": [
        "**14.Create a 2d array with 1 on the border and 0 inside**"
      ]
    },
    {
      "cell_type": "code",
      "metadata": {
        "colab": {
          "base_uri": "https://localhost:8080/"
        },
        "id": "21OuTZKyC0Va",
        "outputId": "5700cd82-66bd-4622-ca1a-d9ab1777fb12"
      },
      "source": [
        "import numpy as np\n",
        "x = np.ones((5,5))\n",
        "print(\"Original array:\")\n",
        "print(x)\n",
        "print(\"1 on the border and 0 inside in the array\")\n",
        "x[1:-1,1:-1] = 0\n",
        "print(x)"
      ],
      "execution_count": 20,
      "outputs": [
        {
          "output_type": "stream",
          "text": [
            "Original array:\n",
            "[[1. 1. 1. 1. 1.]\n",
            " [1. 1. 1. 1. 1.]\n",
            " [1. 1. 1. 1. 1.]\n",
            " [1. 1. 1. 1. 1.]\n",
            " [1. 1. 1. 1. 1.]]\n",
            "1 on the border and 0 inside in the array\n",
            "[[1. 1. 1. 1. 1.]\n",
            " [1. 0. 0. 0. 1.]\n",
            " [1. 0. 0. 0. 1.]\n",
            " [1. 0. 0. 0. 1.]\n",
            " [1. 1. 1. 1. 1.]]\n"
          ],
          "name": "stdout"
        }
      ]
    },
    {
      "cell_type": "markdown",
      "metadata": {
        "id": "ClGoxsmaDREn"
      },
      "source": [
        "**15.How to add a border (filled with 0's) around an existing array?**"
      ]
    },
    {
      "cell_type": "code",
      "metadata": {
        "colab": {
          "base_uri": "https://localhost:8080/"
        },
        "id": "oBRZyqaqDVbQ",
        "outputId": "3b957538-7c63-4767-8aeb-fc3e443bbf46"
      },
      "source": [
        "import numpy as np\n",
        "x = np.ones((3,3))\n",
        "print(\"Original array:\")\n",
        "print(x)\n",
        "print(\"0 on the border and 1 inside in the array\")\n",
        "x = np.pad(x, pad_width=1, mode='constant', constant_values=0)\n",
        "print(x)"
      ],
      "execution_count": 21,
      "outputs": [
        {
          "output_type": "stream",
          "text": [
            "Original array:\n",
            "[[1. 1. 1.]\n",
            " [1. 1. 1.]\n",
            " [1. 1. 1.]]\n",
            "0 on the border and 1 inside in the array\n",
            "[[0. 0. 0. 0. 0.]\n",
            " [0. 1. 1. 1. 0.]\n",
            " [0. 1. 1. 1. 0.]\n",
            " [0. 1. 1. 1. 0.]\n",
            " [0. 0. 0. 0. 0.]]\n"
          ],
          "name": "stdout"
        }
      ]
    },
    {
      "cell_type": "markdown",
      "metadata": {
        "id": "Le3XVnRlDw2w"
      },
      "source": [
        "**16.How to Accessing/Changing specific elements, rows, columns, etc in Numpy array?**"
      ]
    },
    {
      "cell_type": "markdown",
      "metadata": {
        "id": "UaZY8TsjD2jf"
      },
      "source": [
        "**Example -**\n",
        "[[ 1 2 3 4 5 6 7] [ 8 9 10 11 12 13 14]] "
      ]
    },
    {
      "cell_type": "markdown",
      "metadata": {
        "id": "ORkdTP_BEIdC"
      },
      "source": [
        "**Get 13, get first row only, get 3rd column only, get [2, 4, 6], replace 13 by 20**"
      ]
    },
    {
      "cell_type": "code",
      "metadata": {
        "colab": {
          "base_uri": "https://localhost:8080/"
        },
        "id": "Ggkh-GMhD1td",
        "outputId": "522297e8-264f-4a05-966e-db87dd109029"
      },
      "source": [
        "import numpy as np\n",
        "Arr= np.array([[1,2,3,4,5,6,7],[8,9,10,11,12,13,14]])\n",
        "print(Arr)"
      ],
      "execution_count": 22,
      "outputs": [
        {
          "output_type": "stream",
          "text": [
            "[[ 1  2  3  4  5  6  7]\n",
            " [ 8  9 10 11 12 13 14]]\n"
          ],
          "name": "stdout"
        }
      ]
    },
    {
      "cell_type": "code",
      "metadata": {
        "colab": {
          "base_uri": "https://localhost:8080/"
        },
        "id": "2vzp15KqF4Fb",
        "outputId": "efb5954a-dffb-4b3c-c278-4c02fcfe5104"
      },
      "source": [
        "print(Arr[1,5])"
      ],
      "execution_count": 23,
      "outputs": [
        {
          "output_type": "stream",
          "text": [
            "13\n"
          ],
          "name": "stdout"
        }
      ]
    },
    {
      "cell_type": "code",
      "metadata": {
        "colab": {
          "base_uri": "https://localhost:8080/"
        },
        "id": "t6Ls-IDWGRXf",
        "outputId": "d82b5aac-83d5-4d31-b8a0-136b255f42d7"
      },
      "source": [
        "print(Arr[0,:])"
      ],
      "execution_count": 48,
      "outputs": [
        {
          "output_type": "stream",
          "text": [
            "[1 2 3 4 5 6 7]\n"
          ],
          "name": "stdout"
        }
      ]
    },
    {
      "cell_type": "code",
      "metadata": {
        "colab": {
          "base_uri": "https://localhost:8080/"
        },
        "id": "ly84XMH0GmEw",
        "outputId": "35bc8c15-c85e-4918-abcf-92ac83dba691"
      },
      "source": [
        "print(Arr[:,2])"
      ],
      "execution_count": 32,
      "outputs": [
        {
          "output_type": "stream",
          "text": [
            "[ 3 10]\n"
          ],
          "name": "stdout"
        }
      ]
    },
    {
      "cell_type": "code",
      "metadata": {
        "colab": {
          "base_uri": "https://localhost:8080/"
        },
        "id": "VQaZhJkcIX-c",
        "outputId": "a2aa2e24-b51f-4c75-fa36-992c541bc5aa"
      },
      "source": [
        "print(Arr[0,:][1:6:2])"
      ],
      "execution_count": 51,
      "outputs": [
        {
          "output_type": "stream",
          "text": [
            "[2 4 6]\n"
          ],
          "name": "stdout"
        }
      ]
    },
    {
      "cell_type": "code",
      "metadata": {
        "colab": {
          "base_uri": "https://localhost:8080/"
        },
        "id": "0GwZ3Xd9KcVS",
        "outputId": "12ba6934-3739-437e-93d2-2796ed6a5d1c"
      },
      "source": [
        "Arr[1,5]=20\n",
        "print(Arr)"
      ],
      "execution_count": 52,
      "outputs": [
        {
          "output_type": "stream",
          "text": [
            "[[ 1  2  3  4  5  6  7]\n",
            " [ 8  9 10 11 12 20 14]]\n"
          ],
          "name": "stdout"
        }
      ]
    },
    {
      "cell_type": "markdown",
      "metadata": {
        "id": "z9YDyQbfOgxm"
      },
      "source": [
        "**17.How to Convert a 1D array to a 2D array with 2 rows**\n",
        "\n"
      ]
    },
    {
      "cell_type": "code",
      "metadata": {
        "colab": {
          "base_uri": "https://localhost:8080/"
        },
        "id": "zR9yc55KOla7",
        "outputId": "47bd9aa9-e2e6-48d8-c22d-6d00a13e566b"
      },
      "source": [
        "import numpy as np\n",
        "\n",
        "arr = np.array([1, 2, 3, 4, 5, 6])\n",
        "\n",
        "newarr = arr.reshape(2, 3)\n",
        "\n",
        "print(newarr)"
      ],
      "execution_count": 53,
      "outputs": [
        {
          "output_type": "stream",
          "text": [
            "[[1 2 3]\n",
            " [4 5 6]]\n"
          ],
          "name": "stdout"
        }
      ]
    },
    {
      "cell_type": "markdown",
      "metadata": {
        "id": "-7vODP5fPJAA"
      },
      "source": [
        "**18.Create the following pattern without hardcoding. Use only numpy functions and the below input array a.**"
      ]
    },
    {
      "cell_type": "markdown",
      "metadata": {
        "id": "kEOnxQhDPP3f"
      },
      "source": [
        "**Input:**"
      ]
    },
    {
      "cell_type": "markdown",
      "metadata": {
        "id": "T4N0FIyHPUvH"
      },
      "source": [
        "**a = np.array([1,2,3])**"
      ]
    },
    {
      "cell_type": "markdown",
      "metadata": {
        "id": "0VzGSevFPasm"
      },
      "source": [
        "**Desired Output:**"
      ]
    },
    {
      "cell_type": "markdown",
      "metadata": {
        "id": "V3K0dNnpPfum"
      },
      "source": [
        "**#> array([1, 1, 1, 2, 2, 2, 3, 3, 3, 1, 2, 3, 1, 2, 3, 1, 2, 3])**"
      ]
    },
    {
      "cell_type": "code",
      "metadata": {
        "colab": {
          "base_uri": "https://localhost:8080/"
        },
        "id": "hNWvilBiPMVg",
        "outputId": "0373a78a-fd3b-421e-b919-4614702f7aac"
      },
      "source": [
        "import numpy as np\n",
        "a=np.array([1,2,3])\n",
        "print(np.r_[np.repeat(a, 3), np.tile(a, 3)])"
      ],
      "execution_count": 55,
      "outputs": [
        {
          "output_type": "stream",
          "text": [
            "[1 1 1 2 2 2 3 3 3 1 2 3 1 2 3 1 2 3]\n"
          ],
          "name": "stdout"
        }
      ]
    },
    {
      "cell_type": "markdown",
      "metadata": {
        "id": "GGj0vOeTST0Z"
      },
      "source": [
        "**19.Write a program to show how Numpy taking less memory compared to Python List?**"
      ]
    },
    {
      "cell_type": "code",
      "metadata": {
        "colab": {
          "base_uri": "https://localhost:8080/"
        },
        "id": "fVfVrfahSX5a",
        "outputId": "8ff11515-8340-4615-8dfc-84554c9fb115"
      },
      "source": [
        "import numpy as np\n",
        "  \n",
        "# importing system module\n",
        "import sys\n",
        "  \n",
        "# declaring a list of 1000 elements \n",
        "S= range(1000)\n",
        "  \n",
        "# printing size of each element of the list\n",
        "print(\"Size of each element of list in bytes: \",sys.getsizeof(S))\n",
        "  \n",
        "# printing size of the whole list\n",
        "print(\"Size of the whole list in bytes: \",sys.getsizeof(S)*len(S))\n",
        "  \n",
        "# declaring a Numpy array of 1000 elements \n",
        "D= np.arange(1000)\n",
        "  \n",
        "# printing size of each element of the Numpy array\n",
        "print(\"Size of each element of the Numpy array in bytes: \",D.itemsize)\n",
        "  \n",
        "# printing size of the whole Numpy array\n",
        "print(\"Size of the whole Numpy array in bytes: \",D.size*D.itemsize)"
      ],
      "execution_count": 56,
      "outputs": [
        {
          "output_type": "stream",
          "text": [
            "Size of each element of list in bytes:  48\n",
            "Size of the whole list in bytes:  48000\n",
            "Size of each element of the Numpy array in bytes:  8\n",
            "Size of the whole Numpy array in bytes:  8000\n"
          ],
          "name": "stdout"
        }
      ]
    },
    {
      "cell_type": "markdown",
      "metadata": {
        "id": "SVgzG9bJTPP_"
      },
      "source": [
        "**20.Write a program to show how Numpy taking less time compared to Python List?**"
      ]
    },
    {
      "cell_type": "code",
      "metadata": {
        "colab": {
          "base_uri": "https://localhost:8080/"
        },
        "id": "lauSHEiRTS89",
        "outputId": "dc995302-a2e3-4406-8fc2-01f0199497de"
      },
      "source": [
        "import numpy\n",
        "import time\n",
        "   \n",
        "# size of arrays and lists\n",
        "size = 1000000  \n",
        "   \n",
        "# declaring lists\n",
        "list1 = range(size)\n",
        "list2 = range(size)\n",
        "   \n",
        "# declaring arrays\n",
        "array1 = numpy.arange(size)  \n",
        "array2 = numpy.arange(size)\n",
        "   \n",
        "# capturing time before the multiplication of Python lists\n",
        "initialTime = time.time()\n",
        "  \n",
        "# multiplying  elements of both the lists and stored in another list\n",
        "resultantList = [(a * b) for a, b in zip(list1, list2)]\n",
        "   \n",
        "# calculating execution time\n",
        "print(\"Time taken by Lists to perform multiplication:\", \n",
        "      (time.time() - initialTime),\n",
        "      \"seconds\")\n",
        "   \n",
        "# capturing time before the multiplication of Numpy arrays\n",
        "initialTime = time.time()\n",
        "  \n",
        "# multiplying  elements of both the Numpy arrays and stored in another Numpy array \n",
        "resultantArray = array1 * array2\n",
        "   \n",
        "# calculating execution time \n",
        "print(\"Time taken by NumPy Arrays to perform multiplication:\",\n",
        "      (time.time() - initialTime),\n",
        "      \"seconds\")"
      ],
      "execution_count": 57,
      "outputs": [
        {
          "output_type": "stream",
          "text": [
            "Time taken by Lists to perform multiplication: 0.13798308372497559 seconds\n",
            "Time taken by NumPy Arrays to perform multiplication: 0.005174160003662109 seconds\n"
          ],
          "name": "stdout"
        }
      ]
    }
  ]
}